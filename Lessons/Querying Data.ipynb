{
 "cells": [
  {
   "cell_type": "code",
   "execution_count": 1,
   "id": "02c46483",
   "metadata": {},
   "outputs": [],
   "source": [
    "import sqlalchemy\n",
    "from sqlalchemy.ext.automap import automap_base\n",
    "from sqlalchemy.orm import Session\n",
    "from sqlalchemy import create_engine, func"
   ]
  },
  {
   "cell_type": "code",
   "execution_count": 2,
   "id": "8cf59b2c",
   "metadata": {},
   "outputs": [],
   "source": [
    "################################################\n",
    "#Database setup\n",
    "################################################\n",
    "engine = create_engine(\"sqlite:///hawaii.sqlite\")\n",
    "\n",
    "#reflect an existing database into a new model\n",
    "Base = automap_base()\n",
    "#reflect the tables\n",
    "Base.prepare(engine, reflect=True)"
   ]
  },
  {
   "cell_type": "code",
   "execution_count": 4,
   "id": "2feb0105",
   "metadata": {},
   "outputs": [],
   "source": [
    "#Save References to each table\n",
    "Measurement = Base.classes.measurement\n",
    "Station = Base.classes"
   ]
  },
  {
   "cell_type": "code",
   "execution_count": 7,
   "id": "88d8d89f",
   "metadata": {},
   "outputs": [],
   "source": [
    "#Create our session(link) from Python to the DB\n",
    "session = Session(engine)"
   ]
  },
  {
   "cell_type": "code",
   "execution_count": null,
   "id": "c01751aa",
   "metadata": {},
   "outputs": [],
   "source": [
    "#print out results\n",
    "for results in results\n",
    "print(results)"
   ]
  }
 ],
 "metadata": {
  "kernelspec": {
   "display_name": "PythonData",
   "language": "python",
   "name": "pythondata"
  },
  "language_info": {
   "codemirror_mode": {
    "name": "ipython",
    "version": 3
   },
   "file_extension": ".py",
   "mimetype": "text/x-python",
   "name": "python",
   "nbconvert_exporter": "python",
   "pygments_lexer": "ipython3",
   "version": "3.9.12"
  }
 },
 "nbformat": 4,
 "nbformat_minor": 5
}
